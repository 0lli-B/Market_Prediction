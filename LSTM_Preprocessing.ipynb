{
 "cells": [
  {
   "cell_type": "code",
   "execution_count": 1,
   "id": "d8d75552",
   "metadata": {},
   "outputs": [],
   "source": [
    "%matplotlib inline\n",
    "import matplotlib.pyplot as plt\n",
    "import pandas as pd\n",
    "from sklearn.preprocessing import StandardScaler\n",
    "import numpy as np\n",
    "from collections import deque\n",
    "import os\n",
    "import pickle\n",
    "from random import shuffle"
   ]
  },
  {
   "cell_type": "markdown",
   "id": "33f56b4f",
   "metadata": {},
   "source": [
    "# Exploration"
   ]
  },
  {
   "cell_type": "code",
   "execution_count": 2,
   "id": "aa2d5418",
   "metadata": {},
   "outputs": [],
   "source": [
    "filename = 'train_low_mem.parquet'"
   ]
  },
  {
   "cell_type": "code",
   "execution_count": 3,
   "id": "065f61a1",
   "metadata": {},
   "outputs": [],
   "source": [
    "df = pd.read_parquet(filename)"
   ]
  },
  {
   "cell_type": "code",
   "execution_count": 4,
   "id": "c9f23ee4",
   "metadata": {},
   "outputs": [
    {
     "name": "stdout",
     "output_type": "stream",
     "text": [
      "<class 'pandas.core.frame.DataFrame'>\n",
      "RangeIndex: 3141410 entries, 0 to 3141409\n",
      "Columns: 304 entries, row_id to f_299\n",
      "dtypes: float32(301), object(1), uint16(2)\n",
      "memory usage: 3.6+ GB\n"
     ]
    }
   ],
   "source": [
    "df.info()"
   ]
  },
  {
   "cell_type": "markdown",
   "id": "2c72017f",
   "metadata": {},
   "source": [
    "Very large file when creating the sequences\n",
    "-> use float 16 as dtype & not too long sequences (size will increase times the sequence length)"
   ]
  },
  {
   "cell_type": "code",
   "execution_count": 5,
   "id": "c355ae8b",
   "metadata": {},
   "outputs": [
    {
     "data": {
      "text/html": [
       "<div>\n",
       "<style scoped>\n",
       "    .dataframe tbody tr th:only-of-type {\n",
       "        vertical-align: middle;\n",
       "    }\n",
       "\n",
       "    .dataframe tbody tr th {\n",
       "        vertical-align: top;\n",
       "    }\n",
       "\n",
       "    .dataframe thead th {\n",
       "        text-align: right;\n",
       "    }\n",
       "</style>\n",
       "<table border=\"1\" class=\"dataframe\">\n",
       "  <thead>\n",
       "    <tr style=\"text-align: right;\">\n",
       "      <th></th>\n",
       "      <th>row_id</th>\n",
       "      <th>time_id</th>\n",
       "      <th>investment_id</th>\n",
       "      <th>target</th>\n",
       "      <th>f_0</th>\n",
       "      <th>f_1</th>\n",
       "      <th>f_2</th>\n",
       "      <th>f_3</th>\n",
       "      <th>f_4</th>\n",
       "      <th>f_5</th>\n",
       "      <th>...</th>\n",
       "      <th>f_290</th>\n",
       "      <th>f_291</th>\n",
       "      <th>f_292</th>\n",
       "      <th>f_293</th>\n",
       "      <th>f_294</th>\n",
       "      <th>f_295</th>\n",
       "      <th>f_296</th>\n",
       "      <th>f_297</th>\n",
       "      <th>f_298</th>\n",
       "      <th>f_299</th>\n",
       "    </tr>\n",
       "  </thead>\n",
       "  <tbody>\n",
       "    <tr>\n",
       "      <th>0</th>\n",
       "      <td>0_1</td>\n",
       "      <td>0</td>\n",
       "      <td>1</td>\n",
       "      <td>-0.300875</td>\n",
       "      <td>0.932573</td>\n",
       "      <td>0.113691</td>\n",
       "      <td>-0.402206</td>\n",
       "      <td>0.378386</td>\n",
       "      <td>-0.203938</td>\n",
       "      <td>-0.413469</td>\n",
       "      <td>...</td>\n",
       "      <td>0.366028</td>\n",
       "      <td>-1.095620</td>\n",
       "      <td>0.200075</td>\n",
       "      <td>0.819155</td>\n",
       "      <td>0.941183</td>\n",
       "      <td>-0.086764</td>\n",
       "      <td>-1.087009</td>\n",
       "      <td>-1.044826</td>\n",
       "      <td>-0.287605</td>\n",
       "      <td>0.321566</td>\n",
       "    </tr>\n",
       "    <tr>\n",
       "      <th>1</th>\n",
       "      <td>0_2</td>\n",
       "      <td>0</td>\n",
       "      <td>2</td>\n",
       "      <td>-0.231040</td>\n",
       "      <td>0.810802</td>\n",
       "      <td>-0.514115</td>\n",
       "      <td>0.742368</td>\n",
       "      <td>-0.616673</td>\n",
       "      <td>-0.194255</td>\n",
       "      <td>1.771210</td>\n",
       "      <td>...</td>\n",
       "      <td>-0.154193</td>\n",
       "      <td>0.912726</td>\n",
       "      <td>-0.734579</td>\n",
       "      <td>0.819155</td>\n",
       "      <td>0.941183</td>\n",
       "      <td>-0.387617</td>\n",
       "      <td>-1.087009</td>\n",
       "      <td>-0.929529</td>\n",
       "      <td>-0.974060</td>\n",
       "      <td>-0.343624</td>\n",
       "    </tr>\n",
       "    <tr>\n",
       "      <th>2</th>\n",
       "      <td>0_6</td>\n",
       "      <td>0</td>\n",
       "      <td>6</td>\n",
       "      <td>0.568807</td>\n",
       "      <td>0.393974</td>\n",
       "      <td>0.615937</td>\n",
       "      <td>0.567806</td>\n",
       "      <td>-0.607963</td>\n",
       "      <td>0.068883</td>\n",
       "      <td>-1.083155</td>\n",
       "      <td>...</td>\n",
       "      <td>-0.138020</td>\n",
       "      <td>0.912726</td>\n",
       "      <td>-0.551904</td>\n",
       "      <td>-1.220772</td>\n",
       "      <td>-1.060166</td>\n",
       "      <td>-0.219097</td>\n",
       "      <td>-1.087009</td>\n",
       "      <td>-0.612428</td>\n",
       "      <td>-0.113944</td>\n",
       "      <td>0.243608</td>\n",
       "    </tr>\n",
       "    <tr>\n",
       "      <th>3</th>\n",
       "      <td>0_7</td>\n",
       "      <td>0</td>\n",
       "      <td>7</td>\n",
       "      <td>-1.064780</td>\n",
       "      <td>-2.343535</td>\n",
       "      <td>-0.011870</td>\n",
       "      <td>1.874606</td>\n",
       "      <td>-0.606346</td>\n",
       "      <td>-0.586827</td>\n",
       "      <td>-0.815737</td>\n",
       "      <td>...</td>\n",
       "      <td>0.382201</td>\n",
       "      <td>0.912726</td>\n",
       "      <td>-0.266359</td>\n",
       "      <td>-1.220772</td>\n",
       "      <td>0.941183</td>\n",
       "      <td>-0.609113</td>\n",
       "      <td>0.104928</td>\n",
       "      <td>-0.783423</td>\n",
       "      <td>1.151730</td>\n",
       "      <td>-0.773309</td>\n",
       "    </tr>\n",
       "    <tr>\n",
       "      <th>4</th>\n",
       "      <td>0_8</td>\n",
       "      <td>0</td>\n",
       "      <td>8</td>\n",
       "      <td>-0.531940</td>\n",
       "      <td>0.842057</td>\n",
       "      <td>-0.262993</td>\n",
       "      <td>2.330030</td>\n",
       "      <td>-0.583422</td>\n",
       "      <td>-0.618392</td>\n",
       "      <td>-0.742814</td>\n",
       "      <td>...</td>\n",
       "      <td>-0.170365</td>\n",
       "      <td>0.912726</td>\n",
       "      <td>-0.741355</td>\n",
       "      <td>-1.220772</td>\n",
       "      <td>0.941183</td>\n",
       "      <td>-0.588445</td>\n",
       "      <td>0.104928</td>\n",
       "      <td>0.753279</td>\n",
       "      <td>1.345611</td>\n",
       "      <td>-0.737624</td>\n",
       "    </tr>\n",
       "  </tbody>\n",
       "</table>\n",
       "<p>5 rows × 304 columns</p>\n",
       "</div>"
      ],
      "text/plain": [
       "  row_id  time_id  investment_id    target       f_0       f_1       f_2  \\\n",
       "0    0_1        0              1 -0.300875  0.932573  0.113691 -0.402206   \n",
       "1    0_2        0              2 -0.231040  0.810802 -0.514115  0.742368   \n",
       "2    0_6        0              6  0.568807  0.393974  0.615937  0.567806   \n",
       "3    0_7        0              7 -1.064780 -2.343535 -0.011870  1.874606   \n",
       "4    0_8        0              8 -0.531940  0.842057 -0.262993  2.330030   \n",
       "\n",
       "        f_3       f_4       f_5  ...     f_290     f_291     f_292     f_293  \\\n",
       "0  0.378386 -0.203938 -0.413469  ...  0.366028 -1.095620  0.200075  0.819155   \n",
       "1 -0.616673 -0.194255  1.771210  ... -0.154193  0.912726 -0.734579  0.819155   \n",
       "2 -0.607963  0.068883 -1.083155  ... -0.138020  0.912726 -0.551904 -1.220772   \n",
       "3 -0.606346 -0.586827 -0.815737  ...  0.382201  0.912726 -0.266359 -1.220772   \n",
       "4 -0.583422 -0.618392 -0.742814  ... -0.170365  0.912726 -0.741355 -1.220772   \n",
       "\n",
       "      f_294     f_295     f_296     f_297     f_298     f_299  \n",
       "0  0.941183 -0.086764 -1.087009 -1.044826 -0.287605  0.321566  \n",
       "1  0.941183 -0.387617 -1.087009 -0.929529 -0.974060 -0.343624  \n",
       "2 -1.060166 -0.219097 -1.087009 -0.612428 -0.113944  0.243608  \n",
       "3  0.941183 -0.609113  0.104928 -0.783423  1.151730 -0.773309  \n",
       "4  0.941183 -0.588445  0.104928  0.753279  1.345611 -0.737624  \n",
       "\n",
       "[5 rows x 304 columns]"
      ]
     },
     "execution_count": 5,
     "metadata": {},
     "output_type": "execute_result"
    }
   ],
   "source": [
    "df.head()"
   ]
  },
  {
   "cell_type": "code",
   "execution_count": 6,
   "id": "a5e77569",
   "metadata": {},
   "outputs": [],
   "source": [
    "pd.set_option(\"display.max_rows\", 10)"
   ]
  },
  {
   "cell_type": "code",
   "execution_count": 7,
   "id": "ecc027b7",
   "metadata": {},
   "outputs": [
    {
     "data": {
      "text/plain": [
       "1214    3445\n",
       "1209    3444\n",
       "1211    3440\n",
       "1207    3440\n",
       "1208    3438\n",
       "        ... \n",
       "415      659\n",
       "362      651\n",
       "374      600\n",
       "398      539\n",
       "492      512\n",
       "Name: time_id, Length: 1211, dtype: int64"
      ]
     },
     "execution_count": 7,
     "metadata": {},
     "output_type": "execute_result"
    }
   ],
   "source": [
    "df['time_id'].value_counts(ascending=False)\n",
    "#left: unique value; right: how often"
   ]
  },
  {
   "cell_type": "markdown",
   "id": "28784707",
   "metadata": {},
   "source": [
    "One time_id each is feeded for the evaluation, so picking sequences of 128 seems reasonable (smallest 512, most > 2000)"
   ]
  },
  {
   "cell_type": "code",
   "execution_count": 8,
   "id": "e5ba03cb",
   "metadata": {},
   "outputs": [
    {
     "data": {
      "text/html": [
       "<div>\n",
       "<style scoped>\n",
       "    .dataframe tbody tr th:only-of-type {\n",
       "        vertical-align: middle;\n",
       "    }\n",
       "\n",
       "    .dataframe tbody tr th {\n",
       "        vertical-align: top;\n",
       "    }\n",
       "\n",
       "    .dataframe thead th {\n",
       "        text-align: right;\n",
       "    }\n",
       "</style>\n",
       "<table border=\"1\" class=\"dataframe\">\n",
       "  <thead>\n",
       "    <tr style=\"text-align: right;\">\n",
       "      <th></th>\n",
       "      <th>time_id</th>\n",
       "      <th>investment_id</th>\n",
       "      <th>target</th>\n",
       "      <th>f_0</th>\n",
       "      <th>f_1</th>\n",
       "      <th>f_2</th>\n",
       "      <th>f_3</th>\n",
       "      <th>f_4</th>\n",
       "      <th>f_5</th>\n",
       "      <th>f_6</th>\n",
       "      <th>...</th>\n",
       "      <th>f_290</th>\n",
       "      <th>f_291</th>\n",
       "      <th>f_292</th>\n",
       "      <th>f_293</th>\n",
       "      <th>f_294</th>\n",
       "      <th>f_295</th>\n",
       "      <th>f_296</th>\n",
       "      <th>f_297</th>\n",
       "      <th>f_298</th>\n",
       "      <th>f_299</th>\n",
       "    </tr>\n",
       "  </thead>\n",
       "  <tbody>\n",
       "    <tr>\n",
       "      <th>count</th>\n",
       "      <td>3.141410e+06</td>\n",
       "      <td>3.141410e+06</td>\n",
       "      <td>3.141410e+06</td>\n",
       "      <td>3.141410e+06</td>\n",
       "      <td>3.141410e+06</td>\n",
       "      <td>3.141410e+06</td>\n",
       "      <td>3.141410e+06</td>\n",
       "      <td>3.141410e+06</td>\n",
       "      <td>3.141410e+06</td>\n",
       "      <td>3.141410e+06</td>\n",
       "      <td>...</td>\n",
       "      <td>3.141410e+06</td>\n",
       "      <td>3.141410e+06</td>\n",
       "      <td>3.141410e+06</td>\n",
       "      <td>3.141410e+06</td>\n",
       "      <td>3.141410e+06</td>\n",
       "      <td>3.141410e+06</td>\n",
       "      <td>3.141410e+06</td>\n",
       "      <td>3.141410e+06</td>\n",
       "      <td>3.141410e+06</td>\n",
       "      <td>3.141410e+06</td>\n",
       "    </tr>\n",
       "    <tr>\n",
       "      <th>mean</th>\n",
       "      <td>6.654862e+02</td>\n",
       "      <td>1.885265e+03</td>\n",
       "      <td>-2.109159e-02</td>\n",
       "      <td>1.637057e-03</td>\n",
       "      <td>-1.257678e-02</td>\n",
       "      <td>8.514749e-03</td>\n",
       "      <td>-2.003703e-02</td>\n",
       "      <td>-5.416438e-03</td>\n",
       "      <td>-3.034008e-03</td>\n",
       "      <td>1.934330e-03</td>\n",
       "      <td>...</td>\n",
       "      <td>1.256709e-02</td>\n",
       "      <td>9.002053e-04</td>\n",
       "      <td>-6.509154e-03</td>\n",
       "      <td>2.851608e-03</td>\n",
       "      <td>-4.730820e-03</td>\n",
       "      <td>-2.773806e-02</td>\n",
       "      <td>-1.517383e-03</td>\n",
       "      <td>-7.057928e-03</td>\n",
       "      <td>-4.216896e-03</td>\n",
       "      <td>-4.319488e-03</td>\n",
       "    </tr>\n",
       "    <tr>\n",
       "      <th>std</th>\n",
       "      <td>3.560434e+02</td>\n",
       "      <td>1.083616e+03</td>\n",
       "      <td>9.176629e-01</td>\n",
       "      <td>1.079721e+00</td>\n",
       "      <td>1.030980e+00</td>\n",
       "      <td>1.030281e+00</td>\n",
       "      <td>9.602916e-01</td>\n",
       "      <td>9.895188e-01</td>\n",
       "      <td>1.104578e+00</td>\n",
       "      <td>1.067755e+00</td>\n",
       "      <td>...</td>\n",
       "      <td>1.084496e+00</td>\n",
       "      <td>1.114387e+00</td>\n",
       "      <td>1.070176e+00</td>\n",
       "      <td>1.101158e+00</td>\n",
       "      <td>1.144516e+00</td>\n",
       "      <td>9.592550e-01</td>\n",
       "      <td>1.140459e+00</td>\n",
       "      <td>1.108097e+00</td>\n",
       "      <td>1.051252e+00</td>\n",
       "      <td>1.008220e+00</td>\n",
       "    </tr>\n",
       "    <tr>\n",
       "      <th>min</th>\n",
       "      <td>0.000000e+00</td>\n",
       "      <td>0.000000e+00</td>\n",
       "      <td>-9.419646e+00</td>\n",
       "      <td>-1.765789e+01</td>\n",
       "      <td>-6.579473e+00</td>\n",
       "      <td>-8.644268e+00</td>\n",
       "      <td>-1.800427e+01</td>\n",
       "      <td>-4.000015e+00</td>\n",
       "      <td>-8.833704e+00</td>\n",
       "      <td>-6.384251e+00</td>\n",
       "      <td>...</td>\n",
       "      <td>-9.271487e+00</td>\n",
       "      <td>-6.359966e+00</td>\n",
       "      <td>-8.183732e+00</td>\n",
       "      <td>-2.399478e+01</td>\n",
       "      <td>-1.497270e+01</td>\n",
       "      <td>-9.348986e+00</td>\n",
       "      <td>-7.366648e+00</td>\n",
       "      <td>-7.579406e+00</td>\n",
       "      <td>-6.707284e+00</td>\n",
       "      <td>-1.028264e+01</td>\n",
       "    </tr>\n",
       "    <tr>\n",
       "      <th>25%</th>\n",
       "      <td>3.530000e+02</td>\n",
       "      <td>9.520000e+02</td>\n",
       "      <td>-5.004572e-01</td>\n",
       "      <td>-4.071441e-01</td>\n",
       "      <td>-6.813878e-01</td>\n",
       "      <td>-6.530838e-01</td>\n",
       "      <td>-4.496046e-01</td>\n",
       "      <td>-3.532303e-01</td>\n",
       "      <td>-7.070855e-01</td>\n",
       "      <td>-7.911198e-01</td>\n",
       "      <td>...</td>\n",
       "      <td>-6.037326e-01</td>\n",
       "      <td>-8.355157e-01</td>\n",
       "      <td>-6.981400e-01</td>\n",
       "      <td>-1.377131e-01</td>\n",
       "      <td>-9.397985e-01</td>\n",
       "      <td>-5.147926e-01</td>\n",
       "      <td>-9.573807e-01</td>\n",
       "      <td>-7.239380e-01</td>\n",
       "      <td>-8.165390e-01</td>\n",
       "      <td>-5.080143e-01</td>\n",
       "    </tr>\n",
       "    <tr>\n",
       "      <th>50%</th>\n",
       "      <td>7.040000e+02</td>\n",
       "      <td>1.882000e+03</td>\n",
       "      <td>-9.717009e-02</td>\n",
       "      <td>2.431158e-01</td>\n",
       "      <td>-4.867587e-02</td>\n",
       "      <td>4.350941e-02</td>\n",
       "      <td>-2.639937e-01</td>\n",
       "      <td>-1.908876e-01</td>\n",
       "      <td>-2.144796e-02</td>\n",
       "      <td>1.437945e-02</td>\n",
       "      <td>...</td>\n",
       "      <td>6.086323e-02</td>\n",
       "      <td>-2.023181e-01</td>\n",
       "      <td>-1.910102e-01</td>\n",
       "      <td>2.164071e-01</td>\n",
       "      <td>2.087202e-01</td>\n",
       "      <td>-2.907780e-01</td>\n",
       "      <td>6.955573e-03</td>\n",
       "      <td>-1.650222e-01</td>\n",
       "      <td>2.300689e-02</td>\n",
       "      <td>-2.824031e-01</td>\n",
       "    </tr>\n",
       "    <tr>\n",
       "      <th>75%</th>\n",
       "      <td>9.750000e+02</td>\n",
       "      <td>2.830000e+03</td>\n",
       "      <td>3.572908e-01</td>\n",
       "      <td>6.649507e-01</td>\n",
       "      <td>6.086557e-01</td>\n",
       "      <td>6.587324e-01</td>\n",
       "      <td>7.763371e-02</td>\n",
       "      <td>2.784694e-02</td>\n",
       "      <td>6.835684e-01</td>\n",
       "      <td>8.008306e-01</td>\n",
       "      <td>...</td>\n",
       "      <td>6.882384e-01</td>\n",
       "      <td>9.035954e-01</td>\n",
       "      <td>4.841421e-01</td>\n",
       "      <td>5.088849e-01</td>\n",
       "      <td>8.616266e-01</td>\n",
       "      <td>1.275946e-01</td>\n",
       "      <td>9.503851e-01</td>\n",
       "      <td>6.098197e-01</td>\n",
       "      <td>7.984827e-01</td>\n",
       "      <td>1.411301e-01</td>\n",
       "    </tr>\n",
       "    <tr>\n",
       "      <th>max</th>\n",
       "      <td>1.219000e+03</td>\n",
       "      <td>3.773000e+03</td>\n",
       "      <td>1.203861e+01</td>\n",
       "      <td>7.845261e+00</td>\n",
       "      <td>8.707207e+00</td>\n",
       "      <td>8.009340e+00</td>\n",
       "      <td>4.706333e+01</td>\n",
       "      <td>7.662866e+01</td>\n",
       "      <td>7.646200e+00</td>\n",
       "      <td>6.778142e+00</td>\n",
       "      <td>...</td>\n",
       "      <td>9.298274e+00</td>\n",
       "      <td>9.725060e+00</td>\n",
       "      <td>2.231185e+01</td>\n",
       "      <td>6.587691e+00</td>\n",
       "      <td>6.978151e+00</td>\n",
       "      <td>6.140367e+01</td>\n",
       "      <td>7.679950e+00</td>\n",
       "      <td>1.241804e+01</td>\n",
       "      <td>7.003982e+00</td>\n",
       "      <td>4.337021e+01</td>\n",
       "    </tr>\n",
       "  </tbody>\n",
       "</table>\n",
       "<p>8 rows × 303 columns</p>\n",
       "</div>"
      ],
      "text/plain": [
       "            time_id  investment_id        target           f_0           f_1  \\\n",
       "count  3.141410e+06   3.141410e+06  3.141410e+06  3.141410e+06  3.141410e+06   \n",
       "mean   6.654862e+02   1.885265e+03 -2.109159e-02  1.637057e-03 -1.257678e-02   \n",
       "std    3.560434e+02   1.083616e+03  9.176629e-01  1.079721e+00  1.030980e+00   \n",
       "min    0.000000e+00   0.000000e+00 -9.419646e+00 -1.765789e+01 -6.579473e+00   \n",
       "25%    3.530000e+02   9.520000e+02 -5.004572e-01 -4.071441e-01 -6.813878e-01   \n",
       "50%    7.040000e+02   1.882000e+03 -9.717009e-02  2.431158e-01 -4.867587e-02   \n",
       "75%    9.750000e+02   2.830000e+03  3.572908e-01  6.649507e-01  6.086557e-01   \n",
       "max    1.219000e+03   3.773000e+03  1.203861e+01  7.845261e+00  8.707207e+00   \n",
       "\n",
       "                f_2           f_3           f_4           f_5           f_6  \\\n",
       "count  3.141410e+06  3.141410e+06  3.141410e+06  3.141410e+06  3.141410e+06   \n",
       "mean   8.514749e-03 -2.003703e-02 -5.416438e-03 -3.034008e-03  1.934330e-03   \n",
       "std    1.030281e+00  9.602916e-01  9.895188e-01  1.104578e+00  1.067755e+00   \n",
       "min   -8.644268e+00 -1.800427e+01 -4.000015e+00 -8.833704e+00 -6.384251e+00   \n",
       "25%   -6.530838e-01 -4.496046e-01 -3.532303e-01 -7.070855e-01 -7.911198e-01   \n",
       "50%    4.350941e-02 -2.639937e-01 -1.908876e-01 -2.144796e-02  1.437945e-02   \n",
       "75%    6.587324e-01  7.763371e-02  2.784694e-02  6.835684e-01  8.008306e-01   \n",
       "max    8.009340e+00  4.706333e+01  7.662866e+01  7.646200e+00  6.778142e+00   \n",
       "\n",
       "       ...         f_290         f_291         f_292         f_293  \\\n",
       "count  ...  3.141410e+06  3.141410e+06  3.141410e+06  3.141410e+06   \n",
       "mean   ...  1.256709e-02  9.002053e-04 -6.509154e-03  2.851608e-03   \n",
       "std    ...  1.084496e+00  1.114387e+00  1.070176e+00  1.101158e+00   \n",
       "min    ... -9.271487e+00 -6.359966e+00 -8.183732e+00 -2.399478e+01   \n",
       "25%    ... -6.037326e-01 -8.355157e-01 -6.981400e-01 -1.377131e-01   \n",
       "50%    ...  6.086323e-02 -2.023181e-01 -1.910102e-01  2.164071e-01   \n",
       "75%    ...  6.882384e-01  9.035954e-01  4.841421e-01  5.088849e-01   \n",
       "max    ...  9.298274e+00  9.725060e+00  2.231185e+01  6.587691e+00   \n",
       "\n",
       "              f_294         f_295         f_296         f_297         f_298  \\\n",
       "count  3.141410e+06  3.141410e+06  3.141410e+06  3.141410e+06  3.141410e+06   \n",
       "mean  -4.730820e-03 -2.773806e-02 -1.517383e-03 -7.057928e-03 -4.216896e-03   \n",
       "std    1.144516e+00  9.592550e-01  1.140459e+00  1.108097e+00  1.051252e+00   \n",
       "min   -1.497270e+01 -9.348986e+00 -7.366648e+00 -7.579406e+00 -6.707284e+00   \n",
       "25%   -9.397985e-01 -5.147926e-01 -9.573807e-01 -7.239380e-01 -8.165390e-01   \n",
       "50%    2.087202e-01 -2.907780e-01  6.955573e-03 -1.650222e-01  2.300689e-02   \n",
       "75%    8.616266e-01  1.275946e-01  9.503851e-01  6.098197e-01  7.984827e-01   \n",
       "max    6.978151e+00  6.140367e+01  7.679950e+00  1.241804e+01  7.003982e+00   \n",
       "\n",
       "              f_299  \n",
       "count  3.141410e+06  \n",
       "mean  -4.319488e-03  \n",
       "std    1.008220e+00  \n",
       "min   -1.028264e+01  \n",
       "25%   -5.080143e-01  \n",
       "50%   -2.824031e-01  \n",
       "75%    1.411301e-01  \n",
       "max    4.337021e+01  \n",
       "\n",
       "[8 rows x 303 columns]"
      ]
     },
     "execution_count": 8,
     "metadata": {},
     "output_type": "execute_result"
    }
   ],
   "source": [
    "df.describe()"
   ]
  },
  {
   "cell_type": "markdown",
   "id": "27c25951",
   "metadata": {},
   "source": [
    "Each feature has a mean around 0 and a std. around 1 -> no scaling needed"
   ]
  },
  {
   "cell_type": "code",
   "execution_count": 9,
   "id": "04e7f013",
   "metadata": {},
   "outputs": [
    {
     "data": {
      "text/plain": [
       "(array([1.00000e+00, 0.00000e+00, 0.00000e+00, 0.00000e+00, 0.00000e+00,\n",
       "        0.00000e+00, 2.00000e+00, 0.00000e+00, 8.00000e+00, 0.00000e+00,\n",
       "        0.00000e+00, 0.00000e+00, 0.00000e+00, 0.00000e+00, 2.00000e+00,\n",
       "        1.00000e+00, 2.00000e+00, 3.00000e+00, 2.00000e+00, 2.00000e+00,\n",
       "        3.00000e+00, 6.00000e+00, 6.00000e+00, 6.00000e+00, 4.00000e+00,\n",
       "        2.00000e+00, 2.00000e+01, 1.40000e+01, 1.90000e+01, 2.40000e+01,\n",
       "        3.40000e+01, 5.00000e+01, 4.80000e+01, 7.20000e+01, 7.40000e+01,\n",
       "        9.30000e+01, 1.26000e+02, 1.61000e+02, 1.77000e+02, 2.64000e+02,\n",
       "        3.39000e+02, 4.10000e+02, 5.25000e+02, 6.05000e+02, 7.99000e+02,\n",
       "        9.68000e+02, 1.24700e+03, 1.60900e+03, 1.97500e+03, 2.51000e+03,\n",
       "        3.16400e+03, 4.00800e+03, 5.02400e+03, 6.30200e+03, 7.69400e+03,\n",
       "        9.82600e+03, 1.23080e+04, 1.52270e+04, 1.93180e+04, 2.46260e+04,\n",
       "        3.12340e+04, 4.00180e+04, 5.13680e+04, 6.65040e+04, 8.75120e+04,\n",
       "        1.14508e+05, 1.52449e+05, 2.00134e+05, 2.62527e+05, 3.69760e+05,\n",
       "        4.33308e+05, 5.01819e+05, 3.72511e+05, 1.76425e+05, 7.80030e+04,\n",
       "        4.01480e+04, 2.08710e+04, 1.08060e+04, 5.49700e+03, 2.84000e+03,\n",
       "        1.56100e+03, 8.08000e+02, 4.46000e+02, 2.67000e+02, 1.41000e+02,\n",
       "        9.70000e+01, 4.50000e+01, 3.30000e+01, 2.70000e+01, 1.00000e+01,\n",
       "        6.00000e+00, 1.00000e+01, 3.00000e+00, 1.00000e+00, 1.00000e+00,\n",
       "        0.00000e+00, 0.00000e+00, 1.00000e+00, 0.00000e+00, 1.00000e+00]),\n",
       " array([-17.657887  , -17.402855  , -17.147823  , -16.892792  ,\n",
       "        -16.63776   , -16.382729  , -16.127697  , -15.872666  ,\n",
       "        -15.617635  , -15.362603  , -15.107572  , -14.85254   ,\n",
       "        -14.597508  , -14.342477  , -14.087446  , -13.832415  ,\n",
       "        -13.577383  , -13.322351  , -13.06732   , -12.812288  ,\n",
       "        -12.557257  , -12.302225  , -12.0471945 , -11.792163  ,\n",
       "        -11.537131  , -11.2821    , -11.027068  , -10.772037  ,\n",
       "        -10.517005  , -10.261973  , -10.006942  ,  -9.751911  ,\n",
       "         -9.49688   ,  -9.241848  ,  -8.986816  ,  -8.731785  ,\n",
       "         -8.476753  ,  -8.221722  ,  -7.9666905 ,  -7.711659  ,\n",
       "         -7.4566274 ,  -7.201596  ,  -6.9465647 ,  -6.691533  ,\n",
       "         -6.4365015 ,  -6.18147   ,  -5.926439  ,  -5.671407  ,\n",
       "         -5.4163756 ,  -5.161344  ,  -4.906313  ,  -4.6512814 ,\n",
       "         -4.39625   ,  -4.141218  ,  -3.8861868 ,  -3.6311553 ,\n",
       "         -3.376124  ,  -3.1210923 ,  -2.866061  ,  -2.6110294 ,\n",
       "         -2.355998  ,  -2.1009665 ,  -1.845935  ,  -1.5909035 ,\n",
       "         -1.335872  ,  -1.0808406 ,  -0.82580906,  -0.5707776 ,\n",
       "         -0.31574613,  -0.06071466,   0.19431682,   0.4493483 ,\n",
       "          0.7043798 ,   0.95941126,   1.2144427 ,   1.4694742 ,\n",
       "          1.7245057 ,   1.9795371 ,   2.2345686 ,   2.4896002 ,\n",
       "          2.7446315 ,   2.999663  ,   3.2546945 ,   3.509726  ,\n",
       "          3.7647574 ,   4.0197887 ,   4.2748203 ,   4.529852  ,\n",
       "          4.7848835 ,   5.039915  ,   5.294946  ,   5.549978  ,\n",
       "          5.8050094 ,   6.060041  ,   6.315072  ,   6.5701036 ,\n",
       "          6.825135  ,   7.080167  ,   7.335198  ,   7.5902295 ,\n",
       "          7.845261  ], dtype=float32),\n",
       " <BarContainer object of 100 artists>)"
      ]
     },
     "execution_count": 9,
     "metadata": {},
     "output_type": "execute_result"
    },
    {
     "data": {
      "image/png": "[encoded data removed]",
      "text/plain": [
       "<Figure size 432x288 with 1 Axes>"
      ]
     },
     "metadata": {
      "needs_background": "light"
     },
     "output_type": "display_data"
    }
   ],
   "source": [
    "#distribution of feature f_0\n",
    "plt.hist(df['f_0'], bins=100)"
   ]
  },
  {
   "cell_type": "code",
   "execution_count": 10,
   "id": "bf81a2d2",
   "metadata": {},
   "outputs": [
    {
     "data": {
      "text/plain": [
       "(array([1.00000e+00, 1.00000e+00, 0.00000e+00, 1.00000e+00, 1.00000e+00,\n",
       "        5.00000e+00, 9.00000e+00, 3.00000e+00, 8.00000e+00, 1.30000e+01,\n",
       "        2.00000e+01, 1.80000e+01, 3.10000e+01, 3.70000e+01, 6.30000e+01,\n",
       "        7.30000e+01, 1.01000e+02, 1.26000e+02, 1.23000e+02, 1.74000e+02,\n",
       "        2.20000e+02, 3.25000e+02, 3.77000e+02, 5.42000e+02, 6.39000e+02,\n",
       "        8.41000e+02, 1.06200e+03, 1.48500e+03, 1.96700e+03, 2.56700e+03,\n",
       "        3.56700e+03, 4.93800e+03, 6.80100e+03, 1.00280e+04, 1.44360e+04,\n",
       "        2.20510e+04, 3.39320e+04, 5.36180e+04, 8.66100e+04, 1.40024e+05,\n",
       "        2.24655e+05, 3.32094e+05, 4.27104e+05, 4.50125e+05, 3.71344e+05,\n",
       "        2.70816e+05, 1.88633e+05, 1.30011e+05, 9.08950e+04, 6.55170e+04,\n",
       "        4.76450e+04, 3.50700e+04, 2.62980e+04, 1.97530e+04, 1.50430e+04,\n",
       "        1.17760e+04, 9.17100e+03, 7.27500e+03, 5.72600e+03, 4.56200e+03,\n",
       "        3.72300e+03, 3.01100e+03, 2.56800e+03, 2.11100e+03, 1.77500e+03,\n",
       "        1.50900e+03, 1.31200e+03, 1.06200e+03, 8.94000e+02, 7.06000e+02,\n",
       "        5.31000e+02, 4.42000e+02, 3.80000e+02, 2.83000e+02, 2.05000e+02,\n",
       "        1.45000e+02, 1.11000e+02, 7.90000e+01, 4.60000e+01, 4.40000e+01,\n",
       "        3.00000e+01, 2.30000e+01, 2.10000e+01, 1.00000e+01, 5.00000e+00,\n",
       "        1.10000e+01, 7.00000e+00, 4.00000e+00, 3.00000e+00, 2.00000e+00,\n",
       "        1.00000e+00, 1.00000e+00, 1.00000e+00, 0.00000e+00, 0.00000e+00,\n",
       "        0.00000e+00, 1.00000e+00, 1.00000e+00, 0.00000e+00, 1.00000e+00]),\n",
       " array([-9.419646  , -9.205064  , -8.990481  , -8.775899  , -8.561316  ,\n",
       "        -8.346733  , -8.132151  , -7.917568  , -7.7029853 , -7.488403  ,\n",
       "        -7.2738204 , -7.0592375 , -6.844655  , -6.6300726 , -6.41549   ,\n",
       "        -6.200907  , -5.986325  , -5.7717423 , -5.5571594 , -5.342577  ,\n",
       "        -5.1279945 , -4.9134116 , -4.698829  , -4.4842467 , -4.269664  ,\n",
       "        -4.0550814 , -3.8404987 , -3.6259162 , -3.4113336 , -3.1967509 ,\n",
       "        -2.9821684 , -2.7675858 , -2.5530033 , -2.3384206 , -2.123838  ,\n",
       "        -1.9092554 , -1.6946728 , -1.4800903 , -1.2655076 , -1.050925  ,\n",
       "        -0.83634245, -0.62175983, -0.40717724, -0.19259465,  0.02198795,\n",
       "         0.23657055,  0.45115316,  0.6657357 ,  0.88031834,  1.094901  ,\n",
       "         1.3094835 ,  1.5240661 ,  1.7386488 ,  1.9532313 ,  2.167814  ,\n",
       "         2.3823965 ,  2.5969791 ,  2.8115616 ,  3.0261443 ,  3.240727  ,\n",
       "         3.4553094 ,  3.669892  ,  3.8844748 ,  4.099057  ,  4.3136396 ,\n",
       "         4.5282226 ,  4.742805  ,  4.9573874 ,  5.1719704 ,  5.386553  ,\n",
       "         5.6011353 ,  5.815718  ,  6.0303006 ,  6.244883  ,  6.459466  ,\n",
       "         6.6740484 ,  6.888631  ,  7.103214  ,  7.317796  ,  7.5323787 ,\n",
       "         7.7469616 ,  7.961544  ,  8.1761265 ,  8.390709  ,  8.605291  ,\n",
       "         8.819875  ,  9.034457  ,  9.24904   ,  9.463622  ,  9.678205  ,\n",
       "         9.892787  , 10.10737   , 10.321953  , 10.536535  , 10.751118  ,\n",
       "        10.9657    , 11.180283  , 11.394866  , 11.609448  , 11.824031  ,\n",
       "        12.038613  ], dtype=float32),\n",
       " <BarContainer object of 100 artists>)"
      ]
     },
     "execution_count": 10,
     "metadata": {},
     "output_type": "execute_result"
    },
    {
     "data": {
      "image/png": "[encoded data removed]",
      "text/plain": [
       "<Figure size 432x288 with 1 Axes>"
      ]
     },
     "metadata": {
      "needs_background": "light"
     },
     "output_type": "display_data"
    }
   ],
   "source": [
    "#distribution of the target -> balancing neccessary?\n",
    "plt.hist(df['target'], bins=100)"
   ]
  },
  {
   "cell_type": "code",
   "execution_count": 11,
   "id": "5a90a47e",
   "metadata": {},
   "outputs": [
    {
     "name": "stdout",
     "output_type": "stream",
     "text": [
      "-0.021091585978865623\n",
      "-0.09717009216547012\n"
     ]
    }
   ],
   "source": [
    "print(df['target'].mean())\n",
    "print(df['target'].median())"
   ]
  },
  {
   "cell_type": "code",
   "execution_count": 12,
   "id": "43ee7ec9",
   "metadata": {},
   "outputs": [
    {
     "name": "stdout",
     "output_type": "stream",
     "text": [
      "targets_below_0:  1772612\n",
      "targets_above_0:  1367062\n"
     ]
    }
   ],
   "source": [
    "targets_above_0 = 0\n",
    "for i in df['target']:\n",
    "    if i > 0:\n",
    "        targets_above_0 += 1\n",
    "\n",
    "targets_below_0 = 0\n",
    "for i in df['target']:\n",
    "    if i < 0:\n",
    "        targets_below_0 += 1\n",
    "        \n",
    "print('targets_below_0: ', targets_below_0)\n",
    "print('targets_above_0: ', targets_above_0)"
   ]
  },
  {
   "cell_type": "markdown",
   "id": "4dd71bad",
   "metadata": {},
   "source": [
    "Little imbalance but the evaluation is based on the mean correlation, so it should be fine"
   ]
  },
  {
   "cell_type": "code",
   "execution_count": 13,
   "id": "979d4a22",
   "metadata": {},
   "outputs": [],
   "source": [
    "df.drop(['row_id', 'time_id', 'investment_id'], axis=1, inplace=True)"
   ]
  },
  {
   "cell_type": "code",
   "execution_count": 14,
   "id": "b50df727",
   "metadata": {},
   "outputs": [],
   "source": [
    "#float16 for less memory usage\n",
    "df = df.astype('float16')"
   ]
  },
  {
   "cell_type": "markdown",
   "id": "2446cc13",
   "metadata": {},
   "source": [
    "# Splitting the data"
   ]
  },
  {
   "cell_type": "markdown",
   "id": "72477902",
   "metadata": {},
   "source": [
    "For time series its important to use big chunks with no overlapping (otherwise overfit)"
   ]
  },
  {
   "cell_type": "markdown",
   "id": "7ef514e3",
   "metadata": {},
   "source": [
    "Devide the whole dataset into 11 pieces: Val_1, Test_1, Train_1, Val_2, Test_2, Train_2, Val_3, Test_3, Train_3, Val_4, Test_4"
   ]
  },
  {
   "cell_type": "markdown",
   "id": "f12345c9",
   "metadata": {},
   "source": [
    "Each validation-set & test-set 5%; each training-set 20% -> Val: 20%; Test: 20%; Train: 60%"
   ]
  },
  {
   "cell_type": "code",
   "execution_count": 15,
   "id": "58d615c1",
   "metadata": {},
   "outputs": [
    {
     "data": {
      "text/plain": [
       "RangeIndex(start=0, stop=3141410, step=1)"
      ]
     },
     "execution_count": 15,
     "metadata": {},
     "output_type": "execute_result"
    }
   ],
   "source": [
    "df.index"
   ]
  },
  {
   "cell_type": "code",
   "execution_count": 16,
   "id": "0fe2b5a1",
   "metadata": {},
   "outputs": [],
   "source": [
    "#last indices of each split\n",
    "valid_index_1 = int(0.05 * len(df))  #first 5%\n",
    "test_index_1 = int(0.1 * len(df))  # 5-10%\n",
    "train_index_1 = int(0.3 * len(df))  # 10-30%\n",
    "\n",
    "valid_index_2 = int(0.35 * len(df))  #30-35%\n",
    "test_index_2 = int(0.4 * len(df))  # 35-40%\n",
    "train_index_2 = int(0.6 * len(df))  # 40-60%\n",
    "\n",
    "valid_index_3 = int(0.65 * len(df))  #60-65%\n",
    "test_index_3 = int(0.7 * len(df))  # 65-70%\n",
    "train_index_3 = int(0.9 * len(df))  # 70-90%\n",
    "\n",
    "valid_index_4 = int(0.95 * len(df))  #90-95%\n",
    "test_index_4 = int(1 * len(df))  # 95-100%"
   ]
  },
  {
   "cell_type": "code",
   "execution_count": 17,
   "id": "44b86bc6",
   "metadata": {},
   "outputs": [],
   "source": [
    "valid_1_X = df.filter(items=list(range(valid_index_1)), axis=0)\n",
    "test_1_X = df.filter(items=list(range(valid_index_1, test_index_1)), axis=0)\n",
    "train_1_X = df.filter(items=list(range(test_index_1, train_index_1)), axis=0)\n",
    "\n",
    "valid_2_X = df.filter(items=list(range(train_index_1, valid_index_2)), axis=0)\n",
    "test_2_X = df.filter(items=list(range(valid_index_2, test_index_2)), axis=0)\n",
    "train_2_X = df.filter(items=list(range(test_index_2, train_index_2)), axis=0)\n",
    "\n",
    "valid_3_X = df.filter(items=list(range(train_index_2, valid_index_3)), axis=0)\n",
    "test_3_X = df.filter(items=list(range(valid_index_3, test_index_3)), axis=0)\n",
    "train_3_X = df.filter(items=list(range(test_index_3, train_index_3)), axis=0)\n",
    "\n",
    "valid_4_X = df.filter(items=list(range(train_index_3, valid_index_4)), axis=0)\n",
    "test_4_X = df.filter(items=list(range(valid_index_4, test_index_4)), axis=0)"
   ]
  },
  {
   "cell_type": "code",
   "execution_count": 18,
   "id": "aa7560f5",
   "metadata": {},
   "outputs": [
    {
     "data": {
      "text/html": [
       "<div>\n",
       "<style scoped>\n",
       "    .dataframe tbody tr th:only-of-type {\n",
       "        vertical-align: middle;\n",
       "    }\n",
       "\n",
       "    .dataframe tbody tr th {\n",
       "        vertical-align: top;\n",
       "    }\n",
       "\n",
       "    .dataframe thead th {\n",
       "        text-align: right;\n",
       "    }\n",
       "</style>\n",
       "<table border=\"1\" class=\"dataframe\">\n",
       "  <thead>\n",
       "    <tr style=\"text-align: right;\">\n",
       "      <th></th>\n",
       "      <th>target</th>\n",
       "      <th>f_0</th>\n",
       "      <th>f_1</th>\n",
       "      <th>f_2</th>\n",
       "      <th>f_3</th>\n",
       "      <th>f_4</th>\n",
       "      <th>f_5</th>\n",
       "      <th>f_6</th>\n",
       "      <th>f_7</th>\n",
       "      <th>f_8</th>\n",
       "      <th>...</th>\n",
       "      <th>f_290</th>\n",
       "      <th>f_291</th>\n",
       "      <th>f_292</th>\n",
       "      <th>f_293</th>\n",
       "      <th>f_294</th>\n",
       "      <th>f_295</th>\n",
       "      <th>f_296</th>\n",
       "      <th>f_297</th>\n",
       "      <th>f_298</th>\n",
       "      <th>f_299</th>\n",
       "    </tr>\n",
       "  </thead>\n",
       "  <tbody>\n",
       "    <tr>\n",
       "      <th>157068</th>\n",
       "      <td>0.120361</td>\n",
       "      <td>1.155273</td>\n",
       "      <td>-0.508789</td>\n",
       "      <td>0.710449</td>\n",
       "      <td>-0.929688</td>\n",
       "      <td>2.574219</td>\n",
       "      <td>2.166016</td>\n",
       "      <td>0.486328</td>\n",
       "      <td>-1.519531</td>\n",
       "      <td>0.796875</td>\n",
       "      <td>...</td>\n",
       "      <td>0.934082</td>\n",
       "      <td>-1.792969</td>\n",
       "      <td>2.011719</td>\n",
       "      <td>0.576172</td>\n",
       "      <td>-1.983398</td>\n",
       "      <td>1.865234</td>\n",
       "      <td>1.442383</td>\n",
       "      <td>-1.222656</td>\n",
       "      <td>-0.199463</td>\n",
       "      <td>-1.023438</td>\n",
       "    </tr>\n",
       "    <tr>\n",
       "      <th>157069</th>\n",
       "      <td>3.648438</td>\n",
       "      <td>1.005859</td>\n",
       "      <td>0.194702</td>\n",
       "      <td>0.861816</td>\n",
       "      <td>0.479492</td>\n",
       "      <td>-0.586426</td>\n",
       "      <td>0.224976</td>\n",
       "      <td>-2.216797</td>\n",
       "      <td>0.965332</td>\n",
       "      <td>0.064575</td>\n",
       "      <td>...</td>\n",
       "      <td>-0.582520</td>\n",
       "      <td>2.154297</td>\n",
       "      <td>-0.336914</td>\n",
       "      <td>0.073730</td>\n",
       "      <td>0.407471</td>\n",
       "      <td>-0.277832</td>\n",
       "      <td>0.472412</td>\n",
       "      <td>1.784180</td>\n",
       "      <td>0.526367</td>\n",
       "      <td>-0.750977</td>\n",
       "    </tr>\n",
       "  </tbody>\n",
       "</table>\n",
       "<p>2 rows × 301 columns</p>\n",
       "</div>"
      ],
      "text/plain": [
       "          target       f_0       f_1       f_2       f_3       f_4       f_5  \\\n",
       "157068  0.120361  1.155273 -0.508789  0.710449 -0.929688  2.574219  2.166016   \n",
       "157069  3.648438  1.005859  0.194702  0.861816  0.479492 -0.586426  0.224976   \n",
       "\n",
       "             f_6       f_7       f_8  ...     f_290     f_291     f_292  \\\n",
       "157068  0.486328 -1.519531  0.796875  ...  0.934082 -1.792969  2.011719   \n",
       "157069 -2.216797  0.965332  0.064575  ... -0.582520  2.154297 -0.336914   \n",
       "\n",
       "           f_293     f_294     f_295     f_296     f_297     f_298     f_299  \n",
       "157068  0.576172 -1.983398  1.865234  1.442383 -1.222656 -0.199463 -1.023438  \n",
       "157069  0.073730  0.407471 -0.277832  0.472412  1.784180  0.526367 -0.750977  \n",
       "\n",
       "[2 rows x 301 columns]"
      ]
     },
     "execution_count": 18,
     "metadata": {},
     "output_type": "execute_result"
    }
   ],
   "source": [
    "valid_1_X.tail(2)"
   ]
  },
  {
   "cell_type": "code",
   "execution_count": 19,
   "id": "b9b18feb",
   "metadata": {},
   "outputs": [
    {
     "data": {
      "text/html": [
       "<div>\n",
       "<style scoped>\n",
       "    .dataframe tbody tr th:only-of-type {\n",
       "        vertical-align: middle;\n",
       "    }\n",
       "\n",
       "    .dataframe tbody tr th {\n",
       "        vertical-align: top;\n",
       "    }\n",
       "\n",
       "    .dataframe thead th {\n",
       "        text-align: right;\n",
       "    }\n",
       "</style>\n",
       "<table border=\"1\" class=\"dataframe\">\n",
       "  <thead>\n",
       "    <tr style=\"text-align: right;\">\n",
       "      <th></th>\n",
       "      <th>target</th>\n",
       "      <th>f_0</th>\n",
       "      <th>f_1</th>\n",
       "      <th>f_2</th>\n",
       "      <th>f_3</th>\n",
       "      <th>f_4</th>\n",
       "      <th>f_5</th>\n",
       "      <th>f_6</th>\n",
       "      <th>f_7</th>\n",
       "      <th>f_8</th>\n",
       "      <th>...</th>\n",
       "      <th>f_290</th>\n",
       "      <th>f_291</th>\n",
       "      <th>f_292</th>\n",
       "      <th>f_293</th>\n",
       "      <th>f_294</th>\n",
       "      <th>f_295</th>\n",
       "      <th>f_296</th>\n",
       "      <th>f_297</th>\n",
       "      <th>f_298</th>\n",
       "      <th>f_299</th>\n",
       "    </tr>\n",
       "  </thead>\n",
       "  <tbody>\n",
       "    <tr>\n",
       "      <th>157070</th>\n",
       "      <td>2.023438</td>\n",
       "      <td>0.084900</td>\n",
       "      <td>0.660645</td>\n",
       "      <td>-1.836914</td>\n",
       "      <td>1.383789</td>\n",
       "      <td>0.733887</td>\n",
       "      <td>2.519531</td>\n",
       "      <td>-0.374268</td>\n",
       "      <td>-0.202759</td>\n",
       "      <td>-0.351074</td>\n",
       "      <td>...</td>\n",
       "      <td>0.776855</td>\n",
       "      <td>1.384766</td>\n",
       "      <td>2.283203</td>\n",
       "      <td>-0.083862</td>\n",
       "      <td>-0.057526</td>\n",
       "      <td>1.884766</td>\n",
       "      <td>-2.134766</td>\n",
       "      <td>-1.197266</td>\n",
       "      <td>0.588379</td>\n",
       "      <td>1.943359</td>\n",
       "    </tr>\n",
       "    <tr>\n",
       "      <th>157071</th>\n",
       "      <td>0.572266</td>\n",
       "      <td>-0.413086</td>\n",
       "      <td>0.255615</td>\n",
       "      <td>-0.786133</td>\n",
       "      <td>0.651855</td>\n",
       "      <td>-0.365723</td>\n",
       "      <td>0.047089</td>\n",
       "      <td>0.733398</td>\n",
       "      <td>-1.172852</td>\n",
       "      <td>0.056854</td>\n",
       "      <td>...</td>\n",
       "      <td>1.696289</td>\n",
       "      <td>-0.931641</td>\n",
       "      <td>1.614258</td>\n",
       "      <td>-0.190063</td>\n",
       "      <td>2.896484</td>\n",
       "      <td>0.050568</td>\n",
       "      <td>-1.044922</td>\n",
       "      <td>-0.409912</td>\n",
       "      <td>0.970215</td>\n",
       "      <td>0.190552</td>\n",
       "    </tr>\n",
       "  </tbody>\n",
       "</table>\n",
       "<p>2 rows × 301 columns</p>\n",
       "</div>"
      ],
      "text/plain": [
       "          target       f_0       f_1       f_2       f_3       f_4       f_5  \\\n",
       "157070  2.023438  0.084900  0.660645 -1.836914  1.383789  0.733887  2.519531   \n",
       "157071  0.572266 -0.413086  0.255615 -0.786133  0.651855 -0.365723  0.047089   \n",
       "\n",
       "             f_6       f_7       f_8  ...     f_290     f_291     f_292  \\\n",
       "157070 -0.374268 -0.202759 -0.351074  ...  0.776855  1.384766  2.283203   \n",
       "157071  0.733398 -1.172852  0.056854  ...  1.696289 -0.931641  1.614258   \n",
       "\n",
       "           f_293     f_294     f_295     f_296     f_297     f_298     f_299  \n",
       "157070 -0.083862 -0.057526  1.884766 -2.134766 -1.197266  0.588379  1.943359  \n",
       "157071 -0.190063  2.896484  0.050568 -1.044922 -0.409912  0.970215  0.190552  \n",
       "\n",
       "[2 rows x 301 columns]"
      ]
     },
     "execution_count": 19,
     "metadata": {},
     "output_type": "execute_result"
    }
   ],
   "source": [
    "test_1_X.head(2)"
   ]
  },
  {
   "cell_type": "code",
   "execution_count": 20,
   "id": "dc096c34",
   "metadata": {},
   "outputs": [],
   "source": [
    "#separate the targets from the features\n",
    "valid_1_y = valid_1_X.pop('target')\n",
    "test_1_y = test_1_X.pop('target')\n",
    "train_1_y = train_1_X.pop('target')\n",
    "\n",
    "valid_2_y = valid_2_X.pop('target')\n",
    "test_2_y = test_2_X.pop('target')\n",
    "train_2_y = train_2_X.pop('target')\n",
    "\n",
    "valid_3_y = valid_3_X.pop('target')\n",
    "test_3_y = test_3_X.pop('target')\n",
    "train_3_y = train_3_X.pop('target')\n",
    "\n",
    "valid_4_y = valid_4_X.pop('target')\n",
    "test_4_y = test_4_X.pop('target')"
   ]
  },
  {
   "cell_type": "code",
   "execution_count": 21,
   "id": "74ab4a12",
   "metadata": {},
   "outputs": [
    {
     "data": {
      "text/plain": [
       "Index(['f_0', 'f_1', 'f_2', 'f_3', 'f_4', 'f_5', 'f_6', 'f_7', 'f_8', 'f_9',\n",
       "       ...\n",
       "       'f_290', 'f_291', 'f_292', 'f_293', 'f_294', 'f_295', 'f_296', 'f_297',\n",
       "       'f_298', 'f_299'],\n",
       "      dtype='object', length=300)"
      ]
     },
     "execution_count": 21,
     "metadata": {},
     "output_type": "execute_result"
    }
   ],
   "source": [
    "valid_1_X.columns"
   ]
  },
  {
   "cell_type": "code",
   "execution_count": 22,
   "id": "fd8cf1ef",
   "metadata": {},
   "outputs": [
    {
     "data": {
      "text/plain": [
       "'target'"
      ]
     },
     "execution_count": 22,
     "metadata": {},
     "output_type": "execute_result"
    }
   ],
   "source": [
    "valid_1_y.name"
   ]
  },
  {
   "cell_type": "code",
   "execution_count": 23,
   "id": "97a539d3",
   "metadata": {},
   "outputs": [
    {
     "name": "stdout",
     "output_type": "stream",
     "text": [
      "<class 'pandas.core.frame.DataFrame'>\n",
      "Int64Index: 157070 entries, 0 to 157069\n",
      "Columns: 300 entries, f_0 to f_299\n",
      "dtypes: float16(300)\n",
      "memory usage: 91.1 MB\n"
     ]
    }
   ],
   "source": [
    "valid_1_X.info()"
   ]
  },
  {
   "cell_type": "markdown",
   "id": "7cc4871e",
   "metadata": {},
   "source": [
    "Function for preprocessing the dataframe. Takes as Input the slices (features, targets), creates the sequences of length 128 and dumps smaller pieces in a directory"
   ]
  },
  {
   "cell_type": "markdown",
   "id": "7c7960a1",
   "metadata": {},
   "source": [
    "Problem: Can't shuffle the data together because it doesn't fit into RAM -> Shuffle the pieces and feed them in a random order later"
   ]
  },
  {
   "cell_type": "code",
   "execution_count": 24,
   "id": "43775385",
   "metadata": {},
   "outputs": [],
   "source": [
    "def preprocess_slices(X, y, X_name, y_name, dir_name, seq_len=128):\n",
    "    if os.path.exists(dir_name) == False:  # create dirs if not there yet\n",
    "        os.mkdir(dir_name)\n",
    "    \n",
    "    X = X.values  # transform into array\n",
    "    y = y.values\n",
    "    \n",
    "    seq_X = []  # list for the resulting data pieces\n",
    "    seq_y = []\n",
    "    \n",
    "    last_values = deque(maxlen=seq_len)  # deque for creating the sequences\n",
    "    \n",
    "    file_num = 0  # filenumber for unique name\n",
    "    \n",
    "    for row, target in zip(X, y):  # iterate parallel over the features and the target\n",
    "\n",
    "        last_values.append(row)  # append the que with the current features\n",
    "        \n",
    "        if len(last_values) == seq_len:  # if queue has enough values, append to results\n",
    "            seq_X.append(last_values)\n",
    "            seq_y.append(target)  # current target\n",
    "            \n",
    "        if len(seq_X) == 31_414:  # save every 31414 rows -> len(df)/31414 ~ 0 -> no wasted data \n",
    "            file_num += 1\n",
    "            \n",
    "            list_for_shuffling = list(zip(seq_X, seq_y))  # put X and y in a list for shuffling\n",
    "            shuffle(list_for_shuffling)\n",
    "            seq_X, seq_y = zip(*list_for_shuffling)  # unpack again\n",
    "            \n",
    "            seq_X = np.array(seq_X)  # save an array\n",
    "            seq_y = np.array(seq_y)\n",
    "            \n",
    "            with open(f\"{dir_name}/{X_name}_{file_num}.pickle\", \"wb\") as out:\n",
    "                pickle.dump(seq_X, out, protocol=4)  # protocol for saving data > 4GB\n",
    "            with open(f\"{dir_name}/{y_name}_{file_num}.pickle\", \"wb\") as out:\n",
    "                pickle.dump(seq_y, out, protocol=4)\n",
    "        \n",
    "            seq_X = []  # empty the results for the next iteration\n",
    "            seq_y = []\n",
    "    \n",
    "    print(f'Created {file_num} files')"
   ]
  },
  {
   "cell_type": "code",
   "execution_count": 25,
   "id": "64a7bcca",
   "metadata": {},
   "outputs": [
    {
     "name": "stdout",
     "output_type": "stream",
     "text": [
      "Created 4 files\n",
      "Created 4 files\n",
      "Created 4 files\n",
      "Created 4 files\n"
     ]
    }
   ],
   "source": [
    "preprocess_slices(X=valid_1_X, y=valid_1_y, X_name='valid_1_X', y_name='valid_1_y', dir_name='valid')\n",
    "preprocess_slices(X=valid_2_X, y=valid_2_y, X_name='valid_2_X', y_name='valid_2_y', dir_name='valid')\n",
    "preprocess_slices(X=valid_3_X, y=valid_3_y, X_name='valid_3_X', y_name='valid_3_y', dir_name='valid')\n",
    "preprocess_slices(X=valid_4_X, y=valid_4_y, X_name='valid_4_X', y_name='valid_4_y', dir_name='valid')"
   ]
  },
  {
   "cell_type": "code",
   "execution_count": 26,
   "id": "d8e2c831",
   "metadata": {},
   "outputs": [
    {
     "name": "stdout",
     "output_type": "stream",
     "text": [
      "Created 4 files\n",
      "Created 4 files\n",
      "Created 4 files\n",
      "Created 4 files\n"
     ]
    }
   ],
   "source": [
    "preprocess_slices(X=test_1_X, y=test_1_y, X_name='test_1_X', y_name='test_1_y', dir_name='test')\n",
    "preprocess_slices(X=test_2_X, y=test_2_y, X_name='test_2_X', y_name='test_2_y', dir_name='test')\n",
    "preprocess_slices(X=test_3_X, y=test_3_y, X_name='test_3_X', y_name='test_3_y', dir_name='test')\n",
    "preprocess_slices(X=test_4_X, y=test_4_y, X_name='test_4_X', y_name='test_4_y', dir_name='test')"
   ]
  },
  {
   "cell_type": "code",
   "execution_count": 27,
   "id": "5bbb6014",
   "metadata": {},
   "outputs": [
    {
     "name": "stdout",
     "output_type": "stream",
     "text": [
      "Created 19 files\n",
      "Created 19 files\n",
      "Created 19 files\n"
     ]
    }
   ],
   "source": [
    "preprocess_slices(X=train_1_X, y=train_1_y, X_name='train_1_X', y_name='train_1_y', dir_name='train')\n",
    "preprocess_slices(X=train_2_X, y=train_2_y, X_name='train_2_X', y_name='train_2_y', dir_name='train')\n",
    "preprocess_slices(X=train_3_X, y=train_3_y, X_name='train_3_X', y_name='train_3_y', dir_name='train')"
   ]
  }
 ],
 "metadata": {
  "kernelspec": {
   "display_name": "Python 3 (ipykernel)",
   "language": "python",
   "name": "python3"
  },
  "language_info": {
   "codemirror_mode": {
    "name": "ipython",
    "version": 3
   },
   "file_extension": ".py",
   "mimetype": "text/x-python",
   "name": "python",
   "nbconvert_exporter": "python",
   "pygments_lexer": "ipython3",
   "version": "3.7.12"
  }
 },
 "nbformat": 4,
 "nbformat_minor": 5
}
